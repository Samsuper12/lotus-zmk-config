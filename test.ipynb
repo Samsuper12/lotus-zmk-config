{
 "cells": [
  {
   "cell_type": "code",
   "execution_count": 1,
   "id": "f842410a",
   "metadata": {},
   "outputs": [
    {
     "name": "stdout",
     "output_type": "stream",
     "text": [
      "/dev/cu.debug-console - n/a\n",
      "/dev/cu.usbmodem3104 - Lotus581Dongle\n",
      "/dev/cu.usbmodem3101 - Lotus581Dongle\n",
      "/dev/cu.Bluetooth-Incoming-Port - n/a\n"
     ]
    },
    {
     "ename": "NameError",
     "evalue": "name 'ser' is not defined",
     "output_type": "error",
     "traceback": [
      "\u001b[31m---------------------------------------------------------------------------\u001b[39m",
      "\u001b[31mNameError\u001b[39m                                 Traceback (most recent call last)",
      "\u001b[36mCell\u001b[39m\u001b[36m \u001b[39m\u001b[32mIn[1]\u001b[39m\u001b[32m, line 16\u001b[39m\n\u001b[32m     13\u001b[39m         \u001b[38;5;28;01mbreak\u001b[39;00m\n\u001b[32m     15\u001b[39m \u001b[38;5;66;03m# Write & read\u001b[39;00m\n\u001b[32m---> \u001b[39m\u001b[32m16\u001b[39m \u001b[43mser\u001b[49m.write(\u001b[33mb\u001b[39m\u001b[33m\"\u001b[39m\u001b[33mHello ZMK!\u001b[39m\u001b[38;5;130;01m\\n\u001b[39;00m\u001b[33m\"\u001b[39m)\n\u001b[32m     17\u001b[39m response = ser.readline()\n\u001b[32m     18\u001b[39m \u001b[38;5;28mprint\u001b[39m(\u001b[33m\"\u001b[39m\u001b[33mGot:\u001b[39m\u001b[33m\"\u001b[39m, response.decode(errors=\u001b[33m\"\u001b[39m\u001b[33mignore\u001b[39m\u001b[33m\"\u001b[39m))\n",
      "\u001b[31mNameError\u001b[39m: name 'ser' is not defined"
     ]
    }
   ],
   "source": [
    "import serial\n",
    "import serial.tools.list_ports\n",
    "\n",
    "# List all available ports\n",
    "ports = serial.tools.list_ports.comports()\n",
    "for port in ports:\n",
    "    print(f\"{port.device} - {port.description}\")\n",
    "\n",
    "# Open first matching CDC-ACM / USB serial device\n",
    "for port in ports:\n",
    "    if \"CDC\" in port.description or \"USB\" in port.description:\n",
    "        ser = serial.Serial(port.device, baudrate=115200, timeout=1)\n",
    "        break\n",
    "\n",
    "# Write & read\n",
    "ser.write(b\"Hello ZMK!\\n\")\n",
    "response = ser.readline()\n",
    "print(\"Got:\", response.decode(errors=\"ignore\"))"
   ]
  }
 ],
 "metadata": {
  "kernelspec": {
   "display_name": ".venv",
   "language": "python",
   "name": "python3"
  },
  "language_info": {
   "codemirror_mode": {
    "name": "ipython",
    "version": 3
   },
   "file_extension": ".py",
   "mimetype": "text/x-python",
   "name": "python",
   "nbconvert_exporter": "python",
   "pygments_lexer": "ipython3",
   "version": "3.13.6"
  }
 },
 "nbformat": 4,
 "nbformat_minor": 5
}
